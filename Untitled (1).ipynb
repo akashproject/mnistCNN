{
  "nbformat": 4,
  "nbformat_minor": 0,
  "metadata": {
    "kernelspec": {
      "display_name": "Python 3",
      "language": "python",
      "name": "python3"
    },
    "language_info": {
      "codemirror_mode": {
        "name": "ipython",
        "version": 3
      },
      "file_extension": ".py",
      "mimetype": "text/x-python",
      "name": "python",
      "nbconvert_exporter": "python",
      "pygments_lexer": "ipython3",
      "version": "3.7.7"
    },
    "colab": {
      "name": "Untitled.ipynb",
      "provenance": [],
      "collapsed_sections": [],
      "toc_visible": true
    }
  },
  "cells": [
    {
      "cell_type": "code",
      "metadata": {
        "id": "cxetyMMOiV5_",
        "colab_type": "code",
        "colab": {}
      },
      "source": [
        "import pandas as pd\n",
        "import numpy as np\n",
        "import matplotlib.pyplot as plt\n",
        "from keras.models import Sequential\n",
        "from keras.layers import Input,Convolution2D,MaxPooling2D,Flatten,Dense,Dropout\n",
        "from keras.utils import np_utils\n",
        "import tensorflow"
      ],
      "execution_count": 0,
      "outputs": []
    },
    {
      "cell_type": "code",
      "metadata": {
        "id": "t9LrmXSTiV6G",
        "colab_type": "code",
        "colab": {}
      },
      "source": [
        "x=pd.read_csv('/content/mnist_train.csv')"
      ],
      "execution_count": 0,
      "outputs": []
    },
    {
      "cell_type": "code",
      "metadata": {
        "id": "pk1sgtAziV6P",
        "colab_type": "code",
        "colab": {}
      },
      "source": [
        "y=pd.read_csv('/content/mnist_test.csv')"
      ],
      "execution_count": 0,
      "outputs": []
    },
    {
      "cell_type": "code",
      "metadata": {
        "id": "8dWGQKAxiV6W",
        "colab_type": "code",
        "colab": {}
      },
      "source": [
        "x=np.array(x)\n"
      ],
      "execution_count": 0,
      "outputs": []
    },
    {
      "cell_type": "code",
      "metadata": {
        "id": "NsQW2ganiV6f",
        "colab_type": "code",
        "colab": {}
      },
      "source": [
        "x_t=np.array(y)"
      ],
      "execution_count": 0,
      "outputs": []
    },
    {
      "cell_type": "code",
      "metadata": {
        "id": "HdB3DG4piV6k",
        "colab_type": "code",
        "colab": {}
      },
      "source": [
        "x_train=x[:,1:]\n",
        "y_train=x[:,0]"
      ],
      "execution_count": 0,
      "outputs": []
    },
    {
      "cell_type": "code",
      "metadata": {
        "id": "tbAMk2w3iV6s",
        "colab_type": "code",
        "colab": {}
      },
      "source": [
        "x_test=x_t[:,1:]\n",
        "y_test=x_t[:,0]"
      ],
      "execution_count": 0,
      "outputs": []
    },
    {
      "cell_type": "code",
      "metadata": {
        "id": "F8P1-M3iiV6u",
        "colab_type": "code",
        "colab": {
          "base_uri": "https://localhost:8080/",
          "height": 34
        },
        "outputId": "ef4625df-f648-4092-a7d6-9892809b3017"
      },
      "source": [
        "print(x_train.shape)"
      ],
      "execution_count": 66,
      "outputs": [
        {
          "output_type": "stream",
          "text": [
            "(60000, 784)\n"
          ],
          "name": "stdout"
        }
      ]
    },
    {
      "cell_type": "code",
      "metadata": {
        "id": "8wA-8WUyiV6x",
        "colab_type": "code",
        "colab": {
          "base_uri": "https://localhost:8080/",
          "height": 34
        },
        "outputId": "33e206cc-a845-4a5a-d72f-4c0d479d1fca"
      },
      "source": [
        "print(y_train.shape)"
      ],
      "execution_count": 67,
      "outputs": [
        {
          "output_type": "stream",
          "text": [
            "(60000,)\n"
          ],
          "name": "stdout"
        }
      ]
    },
    {
      "cell_type": "code",
      "metadata": {
        "id": "M3mKpoAxiV64",
        "colab_type": "code",
        "colab": {
          "base_uri": "https://localhost:8080/",
          "height": 34
        },
        "outputId": "9cf70151-a3a4-4da2-f2d3-1e9ea83648f2"
      },
      "source": [
        "print(x_test.shape)"
      ],
      "execution_count": 68,
      "outputs": [
        {
          "output_type": "stream",
          "text": [
            "(10000, 784)\n"
          ],
          "name": "stdout"
        }
      ]
    },
    {
      "cell_type": "code",
      "metadata": {
        "id": "e8BxjsaKiV67",
        "colab_type": "code",
        "colab": {
          "base_uri": "https://localhost:8080/",
          "height": 34
        },
        "outputId": "98e8ace2-5f84-4852-b81d-63e89d1f2d84"
      },
      "source": [
        "print(y_test.shape)"
      ],
      "execution_count": 69,
      "outputs": [
        {
          "output_type": "stream",
          "text": [
            "(10000,)\n"
          ],
          "name": "stdout"
        }
      ]
    },
    {
      "cell_type": "code",
      "metadata": {
        "id": "c7ZO_s_jiV6-",
        "colab_type": "code",
        "colab": {
          "base_uri": "https://localhost:8080/",
          "height": 265
        },
        "outputId": "e19e1c02-5904-411e-91c3-adc2cd9260e8"
      },
      "source": [
        "for i in range (5):\n",
        "    plt.imshow(x_test[i].reshape(28,28))"
      ],
      "execution_count": 70,
      "outputs": [
        {
          "output_type": "display_data",
          "data": {
            "image/png": "[encoded data removed]",
            "text/plain": [
              "<Figure size 432x288 with 1 Axes>"
            ]
          },
          "metadata": {
            "tags": [],
            "needs_background": "light"
          }
        }
      ]
    },
    {
      "cell_type": "code",
      "metadata": {
        "id": "1ad4wBF-iV7H",
        "colab_type": "code",
        "colab": {
          "base_uri": "https://localhost:8080/",
          "height": 34
        },
        "outputId": "35091986-2192-44e3-f3ec-7b11962f236e"
      },
      "source": [
        "print(np.unique(y_train))"
      ],
      "execution_count": 71,
      "outputs": [
        {
          "output_type": "stream",
          "text": [
            "[0 1 2 3 4 5 6 7 8 9]\n"
          ],
          "name": "stdout"
        }
      ]
    },
    {
      "cell_type": "code",
      "metadata": {
        "id": "gRHnc4ThiV7K",
        "colab_type": "code",
        "colab": {}
      },
      "source": [
        "x_train.shape\n",
        "y_train=np_utils.to_categorical(y_train)"
      ],
      "execution_count": 0,
      "outputs": []
    },
    {
      "cell_type": "code",
      "metadata": {
        "id": "piUOFYD0iV7U",
        "colab_type": "code",
        "colab": {
          "base_uri": "https://localhost:8080/",
          "height": 34
        },
        "outputId": "3defd135-bd6e-48e8-e1f1-4b21551f2c69"
      },
      "source": [
        "y_train.shape"
      ],
      "execution_count": 73,
      "outputs": [
        {
          "output_type": "execute_result",
          "data": {
            "text/plain": [
              "(60000, 10)"
            ]
          },
          "metadata": {
            "tags": []
          },
          "execution_count": 73
        }
      ]
    },
    {
      "cell_type": "code",
      "metadata": {
        "id": "ZSGteqapiV7V",
        "colab_type": "code",
        "colab": {
          "base_uri": "https://localhost:8080/",
          "height": 1000
        },
        "outputId": "4478d919-5f69-4958-d0b8-ff83e810c88a"
      },
      "source": [
        "for i in range(5):\n",
        "    \n",
        "    plt.imshow(x_train[i].reshape(28,28))\n",
        "    plt.show()"
      ],
      "execution_count": 74,
      "outputs": [
        {
          "output_type": "display_data",
          "data": {
            "image/png": "[encoded data removed]",
            "text/plain": [
              "<Figure size 432x288 with 1 Axes>"
            ]
          },
          "metadata": {
            "tags": [],
            "needs_background": "light"
          }
        },
        {
          "output_type": "display_data",
          "data": {
            "image/png": "[encoded data removed]",
            "text/plain": [
              "<Figure size 432x288 with 1 Axes>"
            ]
          },
          "metadata": {
            "tags": [],
            "needs_background": "light"
          }
        },
        {
          "output_type": "display_data",
          "data": {
            "image/png": "[encoded data removed]",
            "text/plain": [
              "<Figure size 432x288 with 1 Axes>"
            ]
          },
          "metadata": {
            "tags": [],
            "needs_background": "light"
          }
        },
        {
          "output_type": "display_data",
          "data": {
            "image/png": "[encoded data removed]",
            "text/plain": [
              "<Figure size 432x288 with 1 Axes>"
            ]
          },
          "metadata": {
            "tags": [],
            "needs_background": "light"
          }
        },
        {
          "output_type": "display_data",
          "data": {
            "image/png": "[encoded data removed]",
            "text/plain": [
              "<Figure size 432x288 with 1 Axes>"
            ]
          },
          "metadata": {
            "tags": [],
            "needs_background": "light"
          }
        }
      ]
    },
    {
      "cell_type": "code",
      "metadata": {
        "id": "JQz3SbzBiV7X",
        "colab_type": "code",
        "colab": {}
      },
      "source": [
        "model=Sequential()"
      ],
      "execution_count": 0,
      "outputs": []
    },
    {
      "cell_type": "code",
      "metadata": {
        "id": "2Vs_afZBiV7Z",
        "colab_type": "code",
        "colab": {
          "base_uri": "https://localhost:8080/",
          "height": 425
        },
        "outputId": "36cb539a-a500-4452-c878-d88fbec98eda"
      },
      "source": [
        "model.add(Convolution2D(32,(3,3),activation='relu',input_shape=(28,28,1)))\n",
        "model.add(Convolution2D(32,(2,2),activation='relu'))\n",
        "model.add(Dropout(0.25))\n",
        "model.add(MaxPooling2D(2,2))\n",
        "model.add(Convolution2D(32,(5,5),activation='relu'))\n",
        "model.add(Convolution2D(8,(5,5),activation='relu'))\n",
        "model.add(Flatten())\n",
        "model.add(Dense(10,activation=\"softmax\"))\n",
        "model.summary()\n",
        "          "
      ],
      "execution_count": 76,
      "outputs": [
        {
          "output_type": "stream",
          "text": [
            "Model: \"sequential_4\"\n",
            "_________________________________________________________________\n",
            "Layer (type)                 Output Shape              Param #   \n",
            "=================================================================\n",
            "conv2d_7 (Conv2D)            (None, 26, 26, 32)        320       \n",
            "_________________________________________________________________\n",
            "conv2d_8 (Conv2D)            (None, 25, 25, 32)        4128      \n",
            "_________________________________________________________________\n",
            "dropout_4 (Dropout)          (None, 25, 25, 32)        0         \n",
            "_________________________________________________________________\n",
            "max_pooling2d_1 (MaxPooling2 (None, 12, 12, 32)        0         \n",
            "_________________________________________________________________\n",
            "conv2d_9 (Conv2D)            (None, 8, 8, 32)          25632     \n",
            "_________________________________________________________________\n",
            "conv2d_10 (Conv2D)           (None, 4, 4, 8)           6408      \n",
            "_________________________________________________________________\n",
            "flatten_1 (Flatten)          (None, 128)               0         \n",
            "_________________________________________________________________\n",
            "dense_1 (Dense)              (None, 10)                1290      \n",
            "=================================================================\n",
            "Total params: 37,778\n",
            "Trainable params: 37,778\n",
            "Non-trainable params: 0\n",
            "_________________________________________________________________\n"
          ],
          "name": "stdout"
        }
      ]
    },
    {
      "cell_type": "code",
      "metadata": {
        "id": "tkjqQ6f8iV7c",
        "colab_type": "code",
        "colab": {
          "base_uri": "https://localhost:8080/",
          "height": 1000
        },
        "outputId": "4c23f1a5-7f75-43bf-972e-cc9a1218df01"
      },
      "source": [
        "\n",
        "x_train=x_train.reshape((-1,28,28,1))\n",
        "model.compile(loss=\"categorical_crossentropy\",optimizer=\"adam\",metrics=[\"accuracy\"])\n",
        "hist=model.fit(x_train,y_train,epochs=20,shuffle=True,batch_size=256,validation_split=0.20)"
      ],
      "execution_count": 84,
      "outputs": [
        {
          "output_type": "stream",
          "text": [
            "Train on 48000 samples, validate on 12000 samples\n",
            "Epoch 1/20\n",
            "48000/48000 [==============================] - 73s 2ms/step - loss: 0.5420 - accuracy: 0.8243 - val_loss: 0.1626 - val_accuracy: 0.9560\n",
            "Epoch 2/20\n",
            "48000/48000 [==============================] - 73s 2ms/step - loss: 0.1259 - accuracy: 0.9622 - val_loss: 0.1155 - val_accuracy: 0.9683\n",
            "Epoch 3/20\n",
            "48000/48000 [==============================] - 73s 2ms/step - loss: 0.0904 - accuracy: 0.9727 - val_loss: 0.0820 - val_accuracy: 0.9767\n",
            "Epoch 4/20\n",
            "48000/48000 [==============================] - 73s 2ms/step - loss: 0.0727 - accuracy: 0.9778 - val_loss: 0.0752 - val_accuracy: 0.9787\n",
            "Epoch 5/20\n",
            "48000/48000 [==============================] - 78s 2ms/step - loss: 0.0593 - accuracy: 0.9820 - val_loss: 0.0615 - val_accuracy: 0.9819\n",
            "Epoch 6/20\n",
            "48000/48000 [==============================] - 74s 2ms/step - loss: 0.0515 - accuracy: 0.9837 - val_loss: 0.0540 - val_accuracy: 0.9837\n",
            "Epoch 7/20\n",
            "48000/48000 [==============================] - 73s 2ms/step - loss: 0.0453 - accuracy: 0.9859 - val_loss: 0.0526 - val_accuracy: 0.9845\n",
            "Epoch 8/20\n",
            "48000/48000 [==============================] - 73s 2ms/step - loss: 0.0381 - accuracy: 0.9881 - val_loss: 0.0521 - val_accuracy: 0.9851\n",
            "Epoch 9/20\n",
            "48000/48000 [==============================] - 73s 2ms/step - loss: 0.0349 - accuracy: 0.9889 - val_loss: 0.0486 - val_accuracy: 0.9853\n",
            "Epoch 10/20\n",
            "48000/48000 [==============================] - 73s 2ms/step - loss: 0.0304 - accuracy: 0.9905 - val_loss: 0.0497 - val_accuracy: 0.9861\n",
            "Epoch 11/20\n",
            "48000/48000 [==============================] - 72s 2ms/step - loss: 0.0271 - accuracy: 0.9917 - val_loss: 0.0430 - val_accuracy: 0.9868\n",
            "Epoch 12/20\n",
            "48000/48000 [==============================] - 73s 2ms/step - loss: 0.0258 - accuracy: 0.9918 - val_loss: 0.0434 - val_accuracy: 0.9862\n",
            "Epoch 13/20\n",
            "48000/48000 [==============================] - 76s 2ms/step - loss: 0.0237 - accuracy: 0.9923 - val_loss: 0.0387 - val_accuracy: 0.9895\n",
            "Epoch 14/20\n",
            "48000/48000 [==============================] - 73s 2ms/step - loss: 0.0210 - accuracy: 0.9932 - val_loss: 0.0404 - val_accuracy: 0.9877\n",
            "Epoch 15/20\n",
            "48000/48000 [==============================] - 72s 1ms/step - loss: 0.0196 - accuracy: 0.9938 - val_loss: 0.0380 - val_accuracy: 0.9887\n",
            "Epoch 16/20\n",
            "48000/48000 [==============================] - 72s 1ms/step - loss: 0.0190 - accuracy: 0.9941 - val_loss: 0.0412 - val_accuracy: 0.9881\n",
            "Epoch 17/20\n",
            "48000/48000 [==============================] - 73s 2ms/step - loss: 0.0177 - accuracy: 0.9944 - val_loss: 0.0550 - val_accuracy: 0.9842\n",
            "Epoch 18/20\n",
            "48000/48000 [==============================] - 72s 1ms/step - loss: 0.0177 - accuracy: 0.9941 - val_loss: 0.0359 - val_accuracy: 0.9900\n",
            "Epoch 19/20\n",
            "48000/48000 [==============================] - 71s 1ms/step - loss: 0.0151 - accuracy: 0.9951 - val_loss: 0.0422 - val_accuracy: 0.9877\n",
            "Epoch 20/20\n",
            "48000/48000 [==============================] - 71s 1ms/step - loss: 0.0133 - accuracy: 0.9954 - val_loss: 0.0375 - val_accuracy: 0.9899\n"
          ],
          "name": "stdout"
        }
      ]
    },
    {
      "cell_type": "code",
      "metadata": {
        "id": "A-7b_wJEoYKp",
        "colab_type": "code",
        "colab": {}
      },
      "source": [
        "a=x_test[2].reshape((28,28,1))"
      ],
      "execution_count": 0,
      "outputs": []
    },
    {
      "cell_type": "code",
      "metadata": {
        "id": "M-rIq0vMw9WP",
        "colab_type": "code",
        "colab": {
          "base_uri": "https://localhost:8080/",
          "height": 34
        },
        "outputId": "a6b0194a-b034-47d9-e615-7dfb5e79ab0c"
      },
      "source": [
        ""
      ],
      "execution_count": 87,
      "outputs": [
        {
          "output_type": "execute_result",
          "data": {
            "text/plain": [
              "(28, 28, 1)"
            ]
          },
          "metadata": {
            "tags": []
          },
          "execution_count": 87
        }
      ]
    },
    {
      "cell_type": "code",
      "metadata": {
        "id": "0ioCkvP9xKCx",
        "colab_type": "code",
        "colab": {
          "base_uri": "https://localhost:8080/",
          "height": 34
        },
        "outputId": "51507287-5427-496a-c396-ee7e4a707a1f"
      },
      "source": [
        "model.predict(x_test[0].reshape((-1,28,28,1)))"
      ],
      "execution_count": 100,
      "outputs": [
        {
          "output_type": "execute_result",
          "data": {
            "text/plain": [
              "array([[0., 0., 0., 0., 0., 0., 0., 1., 0., 0.]], dtype=float32)"
            ]
          },
          "metadata": {
            "tags": []
          },
          "execution_count": 100
        }
      ]
    },
    {
      "cell_type": "code",
      "metadata": {
        "id": "nZf1_Im4xMYO",
        "colab_type": "code",
        "colab": {
          "base_uri": "https://localhost:8080/",
          "height": 282
        },
        "outputId": "da0f2a03-2d8c-4787-c472-44e6377ba89e"
      },
      "source": [
        "plt.imshow(x_test[0].reshape(28,28))"
      ],
      "execution_count": 101,
      "outputs": [
        {
          "output_type": "execute_result",
          "data": {
            "text/plain": [
              "<matplotlib.image.AxesImage at 0x7f62ad8796d8>"
            ]
          },
          "metadata": {
            "tags": []
          },
          "execution_count": 101
        },
        {
          "output_type": "display_data",
          "data": {
            "image/png": "[encoded data removed]",
            "text/plain": [
              "<Figure size 432x288 with 1 Axes>"
            ]
          },
          "metadata": {
            "tags": [],
            "needs_background": "light"
          }
        }
      ]
    },
    {
      "cell_type": "code",
      "metadata": {
        "id": "cvC2vJ2bylOO",
        "colab_type": "code",
        "colab": {}
      },
      "source": [
        ""
      ],
      "execution_count": 0,
      "outputs": []
    }
  ]
}